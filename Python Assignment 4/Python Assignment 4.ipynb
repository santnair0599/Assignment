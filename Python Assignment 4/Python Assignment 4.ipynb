{
 "cells": [
  {
   "cell_type": "code",
   "execution_count": 33,
   "metadata": {},
   "outputs": [],
   "source": [
    "class triangle_area():\n",
    "    def __init__(self, a,b,c, s=(a+b+c)/2):\n",
    "        self.a = a\n",
    "        self.b = b\n",
    "        self.c = c\n",
    "        self.s = s\n",
    "        \n",
    "    \n",
    "\n",
    "class calc_area(triangle_area):\n",
    "    def __init__(self, *args):\n",
    "        super(calc_area, self).__init__(*args)\n",
    "            \n",
    "    def __str__(self):\n",
    "        return \"Area of Triangle is {}\".format(((self.s * (self.s - self.a) * (self.s - self.b) * (self.s - self.c)) ** 0.5))      \n"
   ]
  },
  {
   "cell_type": "code",
   "execution_count": 32,
   "metadata": {},
   "outputs": [
    {
     "name": "stdout",
     "output_type": "stream",
     "text": [
      "Enter length of side a20\n",
      "Enter length of side b20\n",
      "Enter length of side c20\n",
      "Area of Triangle is 173.20508075688772\n"
     ]
    }
   ],
   "source": [
    "a = int(input(\"Enter length of side a\"))\n",
    "b = int(input(\"Enter length of side b\"))\n",
    "c = int(input(\"Enter length of side c\"))\n",
    "result = calc_area(a, b, c)\n",
    "print(result)"
   ]
  },
  {
   "cell_type": "code",
   "execution_count": 36,
   "metadata": {},
   "outputs": [
    {
     "data": {
      "text/plain": [
       "['umbrella', 'aeroplane', 'master']"
      ]
     },
     "execution_count": 36,
     "metadata": {},
     "output_type": "execute_result"
    }
   ],
   "source": [
    "def filter_long_words(lst, n):\n",
    "    lst2 = []\n",
    "    for i in lst:\n",
    "        if len(i) > n:\n",
    "            lst2.append(i)\n",
    "    return lst2\n",
    "\n",
    "lst = [\"apple\", \"bat\", \"umbrella\", \"stick\", \"water\", \"paint\", \"aeroplane\", \"master\"]\n",
    "n = 5\n",
    "filter_long_words(lst, 5)\n",
    "            \n",
    "    "
   ]
  },
  {
   "cell_type": "code",
   "execution_count": 38,
   "metadata": {},
   "outputs": [
    {
     "data": {
      "text/plain": [
       "[5, 3, 8, 5, 5, 5, 9, 6]"
      ]
     },
     "execution_count": 38,
     "metadata": {},
     "output_type": "execute_result"
    }
   ],
   "source": [
    "def find_word_counts(lst):\n",
    "    lst2 = []\n",
    "    for i in lst:\n",
    "        lst2.append(len(i))\n",
    "    return lst2\n",
    "\n",
    "lst = [\"apple\", \"bat\", \"umbrella\", \"stick\", \"water\", \"paint\", \"aeroplane\", \"master\"]\n",
    "find_word_counts(lst)\n"
   ]
  },
  {
   "cell_type": "code",
   "execution_count": 41,
   "metadata": {},
   "outputs": [
    {
     "name": "stdout",
     "output_type": "stream",
     "text": [
      "Enter a character:b\n"
     ]
    },
    {
     "data": {
      "text/plain": [
       "False"
      ]
     },
     "execution_count": 41,
     "metadata": {},
     "output_type": "execute_result"
    }
   ],
   "source": [
    "def find_vowel(string):\n",
    "    vowels = ['a', 'e', 'i', 'o', 'u']\n",
    "    if string in vowels:\n",
    "        return True\n",
    "    else:\n",
    "        return False\n",
    "    \n",
    "string_val = input(\"Enter a character:\")\n",
    "find_vowel(string_val)"
   ]
  },
  {
   "cell_type": "code",
   "execution_count": null,
   "metadata": {},
   "outputs": [],
   "source": []
  },
  {
   "cell_type": "code",
   "execution_count": null,
   "metadata": {},
   "outputs": [],
   "source": []
  },
  {
   "cell_type": "code",
   "execution_count": null,
   "metadata": {},
   "outputs": [],
   "source": []
  }
 ],
 "metadata": {
  "kernelspec": {
   "display_name": "Python 3",
   "language": "python",
   "name": "python3"
  },
  "language_info": {
   "codemirror_mode": {
    "name": "ipython",
    "version": 3
   },
   "file_extension": ".py",
   "mimetype": "text/x-python",
   "name": "python",
   "nbconvert_exporter": "python",
   "pygments_lexer": "ipython3",
   "version": "3.6.5"
  }
 },
 "nbformat": 4,
 "nbformat_minor": 4
}
